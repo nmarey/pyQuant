{
 "cells": [
  {
   "cell_type": "markdown",
   "id": "0c523696",
   "metadata": {},
   "source": [
    "http://www.blackarbs.com/notable-projects <br>\n",
    "\n",
    "Github Repos<br>\n",
    "https://github.com/BlackArbsCEO?tab=repositories"
   ]
  },
  {
   "cell_type": "markdown",
   "id": "832c5c5e",
   "metadata": {},
   "source": [
    "# Websites"
   ]
  },
  {
   "cell_type": "markdown",
   "id": "5b1ee5bf",
   "metadata": {},
   "source": [
    "# Papers"
   ]
  },
  {
   "cell_type": "markdown",
   "id": "82d38311",
   "metadata": {},
   "source": [
    "# Repos"
   ]
  },
  {
   "cell_type": "markdown",
   "id": "69d27fdb",
   "metadata": {},
   "source": [
    "# Books"
   ]
  },
  {
   "cell_type": "markdown",
   "id": "15d64512",
   "metadata": {},
   "source": [
    "# APIs\n",
    "\n",
    "https://www.alphavantage.co <br>\n",
    "yahoo <br>"
   ]
  },
  {
   "cell_type": "markdown",
   "id": "99ab7503",
   "metadata": {},
   "source": [
    "# Twitter Profiles\n",
    "\n",
    "alphawifey <br>"
   ]
  }
 ],
 "metadata": {
  "kernelspec": {
   "display_name": "Python 3 (ipykernel)",
   "language": "python",
   "name": "python3"
  },
  "language_info": {
   "codemirror_mode": {
    "name": "ipython",
    "version": 3
   },
   "file_extension": ".py",
   "mimetype": "text/x-python",
   "name": "python",
   "nbconvert_exporter": "python",
   "pygments_lexer": "ipython3",
   "version": "3.8.8"
  }
 },
 "nbformat": 4,
 "nbformat_minor": 5
}
