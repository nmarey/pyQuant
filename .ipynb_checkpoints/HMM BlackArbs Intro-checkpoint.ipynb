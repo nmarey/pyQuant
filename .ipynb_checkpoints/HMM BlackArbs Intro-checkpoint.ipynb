{
 "cells": [
  {
   "cell_type": "markdown",
   "id": "b1c93493",
   "metadata": {},
   "source": [
    "# Introduction to Hiddem Markov Models - Blackarbs\n",
    "\n",
    "http://www.blackarbs.com/blog/introduction-hidden-markov-models-python-networkx-sklearn/2/9/2017"
   ]
  },
  {
   "cell_type": "code",
   "execution_count": null,
   "id": "9beb24d0",
   "metadata": {},
   "outputs": [],
   "source": []
  },
  {
   "cell_type": "code",
   "execution_count": null,
   "id": "c4dced7e",
   "metadata": {},
   "outputs": [],
   "source": []
  },
  {
   "cell_type": "code",
   "execution_count": null,
   "id": "2ec6480f",
   "metadata": {},
   "outputs": [],
   "source": []
  }
 ],
 "metadata": {
  "kernelspec": {
   "display_name": "pyFi",
   "language": "python",
   "name": "pyfi"
  },
  "language_info": {
   "codemirror_mode": {
    "name": "ipython",
    "version": 3
   },
   "file_extension": ".py",
   "mimetype": "text/x-python",
   "name": "python",
   "nbconvert_exporter": "python",
   "pygments_lexer": "ipython3",
   "version": "3.8.8"
  }
 },
 "nbformat": 4,
 "nbformat_minor": 5
}
