{
 "cells": [
  {
   "cell_type": "markdown",
   "id": "27fea8b5",
   "metadata": {},
   "source": [
    "https://www.wsj.com/market-data/stocks"
   ]
  },
  {
   "cell_type": "code",
   "execution_count": 9,
   "id": "75a6ffc8",
   "metadata": {},
   "outputs": [],
   "source": [
    "from bs4 import BeautifulSoup as bs\n",
    "from urllib.request import Request, urlopen"
   ]
  },
  {
   "cell_type": "code",
   "execution_count": 32,
   "id": "037c1bd8",
   "metadata": {},
   "outputs": [],
   "source": [
    "import pandas as pd"
   ]
  },
  {
   "cell_type": "code",
   "execution_count": 18,
   "id": "c0d470e0",
   "metadata": {},
   "outputs": [],
   "source": [
    "import json"
   ]
  },
  {
   "cell_type": "code",
   "execution_count": 17,
   "id": "363d90e6",
   "metadata": {},
   "outputs": [],
   "source": [
    "# url = \"https://www.wsj.com/market-data/stocks?mod=nav_top_subsection\"\n",
    "url = \"https://www.wsj.com/market-data/stocks?id=%7B%22application%22%3A%22WSJ%22%2C%22marketsDiaryType%22%3A%22overview%22%7D&type=mdc_marketsdiary\"\n",
    "\n",
    "req = Request(url, headers = {'User-Agent': 'Mozilla/5.0'})\n",
    "\n",
    "webpage = urlopen(req).read()\n"
   ]
  },
  {
   "cell_type": "code",
   "execution_count": 13,
   "id": "694a77c3",
   "metadata": {
    "scrolled": true
   },
   "outputs": [
    {
     "data": {
      "text/plain": [
       "b'{\"id\":\"{\\\\\"application\\\\\":\\\\\"WSJ\\\\\",\\\\\"marketsDiaryType\\\\\":\\\\\"overview\\\\\"}\",\"type\":\"mdc_marketsdiary\",\"data\":{\"instrumentSets\":[{\"headerFields\":[{\"value\":\"name\",\"label\":\"Issues\"}],\"instruments\":[{\"name\":\"Advancing\",\"NASDAQ\":\"1,514\",\"NYSE\":\"1,386\"},{\"name\":\"Declining\",\"NASDAQ\":\"3,183\",\"NYSE\":\"1,919\"},{\"name\":\"Unchanged\",\"NASDAQ\":\"295\",\"NYSE\":\"176\"},{\"name\":\"Total\",\"NASDAQ\":\"4,992\",\"NYSE\":\"3,481\"}]},{\"headerFields\":[{\"value\":\"name\",\"label\":\"Issues At\"}],\"instruments\":[{\"name\":\"New Highs\",\"NASDAQ\":\"59\",\"NYSE\":\"104\"},{\"name\":\"New Lows\",\"NASDAQ\":\"315\",\"NYSE\":\"126\"}]},{\"headerFields\":[{\"value\":\"name\",\"label\":\"Share Volume\"}],\"instruments\":[{\"name\":\"Total\",\"NASDAQ\":\"5,219,092,904\",\"NYSE\":\"5,188,910,854\"},{\"name\":\"Advancing\",\"NASDAQ\":\"1,639,466,086\",\"NYSE\":\"1,933,871,062\"},{\"name\":\"Declining\",\"NASDAQ\":\"3,529,940,193\",\"NYSE\":\"3,213,498,115\"},{\"name\":\"Unchanged\",\"NASDAQ\":\"49,686,625\",\"NYSE\":\"41,541,677\"}]}],\"timestamp\":\"4:15 PM EST 3/03/22\"},\"hash\":\"{\\\\\"id\\\\\":\\\\\"{\\\\\\\\\\\\\"application\\\\\\\\\\\\\":\\\\\\\\\\\\\"WSJ\\\\\\\\\\\\\",\\\\\\\\\\\\\"marketsDiaryType\\\\\\\\\\\\\":\\\\\\\\\\\\\"overview\\\\\\\\\\\\\"}\\\\\",\\\\\"type\\\\\":\\\\\"mdc_marketsdiary\\\\\",\\\\\"data\\\\\":{\\\\\"instrumentSets\\\\\":[{\\\\\"headerFields\\\\\":[{\\\\\"value\\\\\":\\\\\"name\\\\\",\\\\\"label\\\\\":\\\\\"Issues\\\\\"}],\\\\\"instruments\\\\\":[{\\\\\"name\\\\\":\\\\\"Advancing\\\\\",\\\\\"NASDAQ\\\\\":\\\\\"1,514\\\\\",\\\\\"NYSE\\\\\":\\\\\"1,386\\\\\"},{\\\\\"name\\\\\":\\\\\"Declining\\\\\",\\\\\"NASDAQ\\\\\":\\\\\"3,183\\\\\",\\\\\"NYSE\\\\\":\\\\\"1,919\\\\\"},{\\\\\"name\\\\\":\\\\\"Unchanged\\\\\",\\\\\"NASDAQ\\\\\":\\\\\"295\\\\\",\\\\\"NYSE\\\\\":\\\\\"176\\\\\"},{\\\\\"name\\\\\":\\\\\"Total\\\\\",\\\\\"NASDAQ\\\\\":\\\\\"4,992\\\\\",\\\\\"NYSE\\\\\":\\\\\"3,481\\\\\"}]},{\\\\\"headerFields\\\\\":[{\\\\\"value\\\\\":\\\\\"name\\\\\",\\\\\"label\\\\\":\\\\\"Issues At\\\\\"}],\\\\\"instruments\\\\\":[{\\\\\"name\\\\\":\\\\\"New Highs\\\\\",\\\\\"NASDAQ\\\\\":\\\\\"59\\\\\",\\\\\"NYSE\\\\\":\\\\\"104\\\\\"},{\\\\\"name\\\\\":\\\\\"New Lows\\\\\",\\\\\"NASDAQ\\\\\":\\\\\"315\\\\\",\\\\\"NYSE\\\\\":\\\\\"126\\\\\"}]},{\\\\\"headerFields\\\\\":[{\\\\\"value\\\\\":\\\\\"name\\\\\",\\\\\"label\\\\\":\\\\\"Share Volume\\\\\"}],\\\\\"instruments\\\\\":[{\\\\\"name\\\\\":\\\\\"Total\\\\\",\\\\\"NASDAQ\\\\\":\\\\\"5,219,092,904\\\\\",\\\\\"NYSE\\\\\":\\\\\"5,188,910,854\\\\\"},{\\\\\"name\\\\\":\\\\\"Advancing\\\\\",\\\\\"NASDAQ\\\\\":\\\\\"1,639,466,086\\\\\",\\\\\"NYSE\\\\\":\\\\\"1,933,871,062\\\\\"},{\\\\\"name\\\\\":\\\\\"Declining\\\\\",\\\\\"NASDAQ\\\\\":\\\\\"3,529,940,193\\\\\",\\\\\"NYSE\\\\\":\\\\\"3,213,498,115\\\\\"},{\\\\\"name\\\\\":\\\\\"Unchanged\\\\\",\\\\\"NASDAQ\\\\\":\\\\\"49,686,625\\\\\",\\\\\"NYSE\\\\\":\\\\\"41,541,677\\\\\"}]}],\\\\\"timestamp\\\\\":\\\\\"4:15 PM EST 3/03/22\\\\\"}}\"}'"
      ]
     },
     "execution_count": 13,
     "metadata": {},
     "output_type": "execute_result"
    }
   ],
   "source": [
    "webpage"
   ]
  },
  {
   "cell_type": "code",
   "execution_count": 19,
   "id": "b1fdd3f4",
   "metadata": {},
   "outputs": [
    {
     "name": "stdout",
     "output_type": "stream",
     "text": [
      "<class 'dict'>\n"
     ]
    }
   ],
   "source": [
    "data = json.loads(webpage)\n",
    "print(type(data))"
   ]
  },
  {
   "cell_type": "code",
   "execution_count": 35,
   "id": "10a20062",
   "metadata": {},
   "outputs": [
    {
     "data": {
      "text/plain": [
       "{'id': '{\"application\":\"WSJ\",\"marketsDiaryType\":\"overview\"}',\n",
       " 'type': 'mdc_marketsdiary',\n",
       " 'data': {'instrumentSets': [{'headerFields': [{'value': 'name',\n",
       "      'label': 'Issues'}],\n",
       "    'instruments': [{'name': 'Advancing', 'NASDAQ': '1,514', 'NYSE': '1,386'},\n",
       "     {'name': 'Declining', 'NASDAQ': '3,183', 'NYSE': '1,919'},\n",
       "     {'name': 'Unchanged', 'NASDAQ': '295', 'NYSE': '176'},\n",
       "     {'name': 'Total', 'NASDAQ': '4,992', 'NYSE': '3,481'}]},\n",
       "   {'headerFields': [{'value': 'name', 'label': 'Issues At'}],\n",
       "    'instruments': [{'name': 'New Highs', 'NASDAQ': '59', 'NYSE': '104'},\n",
       "     {'name': 'New Lows', 'NASDAQ': '315', 'NYSE': '126'}]},\n",
       "   {'headerFields': [{'value': 'name', 'label': 'Share Volume'}],\n",
       "    'instruments': [{'name': 'Total',\n",
       "      'NASDAQ': '5,219,092,904',\n",
       "      'NYSE': '5,188,910,854'},\n",
       "     {'name': 'Advancing', 'NASDAQ': '1,639,466,086', 'NYSE': '1,933,871,062'},\n",
       "     {'name': 'Declining', 'NASDAQ': '3,529,940,193', 'NYSE': '3,213,498,115'},\n",
       "     {'name': 'Unchanged', 'NASDAQ': '49,686,625', 'NYSE': '41,541,677'}]}],\n",
       "  'timestamp': '4:15 PM EST 3/03/22'},\n",
       " 'hash': '{\"id\":\"{\\\\\"application\\\\\":\\\\\"WSJ\\\\\",\\\\\"marketsDiaryType\\\\\":\\\\\"overview\\\\\"}\",\"type\":\"mdc_marketsdiary\",\"data\":{\"instrumentSets\":[{\"headerFields\":[{\"value\":\"name\",\"label\":\"Issues\"}],\"instruments\":[{\"name\":\"Advancing\",\"NASDAQ\":\"1,514\",\"NYSE\":\"1,386\"},{\"name\":\"Declining\",\"NASDAQ\":\"3,183\",\"NYSE\":\"1,919\"},{\"name\":\"Unchanged\",\"NASDAQ\":\"295\",\"NYSE\":\"176\"},{\"name\":\"Total\",\"NASDAQ\":\"4,992\",\"NYSE\":\"3,481\"}]},{\"headerFields\":[{\"value\":\"name\",\"label\":\"Issues At\"}],\"instruments\":[{\"name\":\"New Highs\",\"NASDAQ\":\"59\",\"NYSE\":\"104\"},{\"name\":\"New Lows\",\"NASDAQ\":\"315\",\"NYSE\":\"126\"}]},{\"headerFields\":[{\"value\":\"name\",\"label\":\"Share Volume\"}],\"instruments\":[{\"name\":\"Total\",\"NASDAQ\":\"5,219,092,904\",\"NYSE\":\"5,188,910,854\"},{\"name\":\"Advancing\",\"NASDAQ\":\"1,639,466,086\",\"NYSE\":\"1,933,871,062\"},{\"name\":\"Declining\",\"NASDAQ\":\"3,529,940,193\",\"NYSE\":\"3,213,498,115\"},{\"name\":\"Unchanged\",\"NASDAQ\":\"49,686,625\",\"NYSE\":\"41,541,677\"}]}],\"timestamp\":\"4:15 PM EST 3/03/22\"}}'}"
      ]
     },
     "execution_count": 35,
     "metadata": {},
     "output_type": "execute_result"
    }
   ],
   "source": [
    "data"
   ]
  },
  {
   "cell_type": "code",
   "execution_count": 29,
   "id": "942fb672",
   "metadata": {
    "scrolled": true
   },
   "outputs": [
    {
     "name": "stdout",
     "output_type": "stream",
     "text": [
      "{'headerFields': [{'value': 'name', 'label': 'Issues'}], 'instruments': [{'name': 'Advancing', 'NASDAQ': '1,514', 'NYSE': '1,386'}, {'name': 'Declining', 'NASDAQ': '3,183', 'NYSE': '1,919'}, {'name': 'Unchanged', 'NASDAQ': '295', 'NYSE': '176'}, {'name': 'Total', 'NASDAQ': '4,992', 'NYSE': '3,481'}]}\n",
      "test number 0\n",
      "{'headerFields': [{'value': 'name', 'label': 'Issues At'}], 'instruments': [{'name': 'New Highs', 'NASDAQ': '59', 'NYSE': '104'}, {'name': 'New Lows', 'NASDAQ': '315', 'NYSE': '126'}]}\n",
      "test number 1\n",
      "{'headerFields': [{'value': 'name', 'label': 'Share Volume'}], 'instruments': [{'name': 'Total', 'NASDAQ': '5,219,092,904', 'NYSE': '5,188,910,854'}, {'name': 'Advancing', 'NASDAQ': '1,639,466,086', 'NYSE': '1,933,871,062'}, {'name': 'Declining', 'NASDAQ': '3,529,940,193', 'NYSE': '3,213,498,115'}, {'name': 'Unchanged', 'NASDAQ': '49,686,625', 'NYSE': '41,541,677'}]}\n",
      "test number 1\n"
     ]
    }
   ],
   "source": [
    "i = 0\n",
    "for test in data['data']['instrumentSets']:\n",
    "    print(test)\n",
    "    print(\"test number {}\".format(i))\n",
    "    i=+1"
   ]
  },
  {
   "cell_type": "code",
   "execution_count": 31,
   "id": "a554f0a0",
   "metadata": {},
   "outputs": [
    {
     "data": {
      "text/plain": [
       "[{'name': 'Total', 'NASDAQ': '5,219,092,904', 'NYSE': '5,188,910,854'},\n",
       " {'name': 'Advancing', 'NASDAQ': '1,639,466,086', 'NYSE': '1,933,871,062'},\n",
       " {'name': 'Declining', 'NASDAQ': '3,529,940,193', 'NYSE': '3,213,498,115'},\n",
       " {'name': 'Unchanged', 'NASDAQ': '49,686,625', 'NYSE': '41,541,677'}]"
      ]
     },
     "execution_count": 31,
     "metadata": {},
     "output_type": "execute_result"
    }
   ],
   "source": [
    "data['data']['instrumentSets'][2]['instruments']"
   ]
  },
  {
   "cell_type": "code",
   "execution_count": 83,
   "id": "f3c1e878",
   "metadata": {},
   "outputs": [],
   "source": [
    "df_list = []\n",
    "for i in data['data']['instrumentSets']:\n",
    "    df_list.append(pd.DataFrame.from_dict(i['instruments']))"
   ]
  },
  {
   "cell_type": "code",
   "execution_count": 37,
   "id": "f50d9c57",
   "metadata": {},
   "outputs": [
    {
     "data": {
      "text/plain": [
       "'4:15 PM EST 3/03/22'"
      ]
     },
     "execution_count": 37,
     "metadata": {},
     "output_type": "execute_result"
    }
   ],
   "source": [
    "data['data']['timestamp']"
   ]
  },
  {
   "cell_type": "markdown",
   "id": "39d097d2",
   "metadata": {},
   "source": [
    "# Number Advancing and Decline\n",
    "\n",
    "number of equities that are advancing or declining"
   ]
  },
  {
   "cell_type": "code",
   "execution_count": 43,
   "id": "8d3b922c",
   "metadata": {
    "scrolled": true
   },
   "outputs": [
    {
     "data": {
      "text/html": [
       "<div>\n",
       "<style scoped>\n",
       "    .dataframe tbody tr th:only-of-type {\n",
       "        vertical-align: middle;\n",
       "    }\n",
       "\n",
       "    .dataframe tbody tr th {\n",
       "        vertical-align: top;\n",
       "    }\n",
       "\n",
       "    .dataframe thead th {\n",
       "        text-align: right;\n",
       "    }\n",
       "</style>\n",
       "<table border=\"1\" class=\"dataframe\">\n",
       "  <thead>\n",
       "    <tr style=\"text-align: right;\">\n",
       "      <th></th>\n",
       "      <th>name</th>\n",
       "      <th>NASDAQ</th>\n",
       "      <th>NYSE</th>\n",
       "    </tr>\n",
       "  </thead>\n",
       "  <tbody>\n",
       "    <tr>\n",
       "      <th>0</th>\n",
       "      <td>Advancing</td>\n",
       "      <td>1,514</td>\n",
       "      <td>1,386</td>\n",
       "    </tr>\n",
       "    <tr>\n",
       "      <th>1</th>\n",
       "      <td>Declining</td>\n",
       "      <td>3,183</td>\n",
       "      <td>1,919</td>\n",
       "    </tr>\n",
       "    <tr>\n",
       "      <th>2</th>\n",
       "      <td>Unchanged</td>\n",
       "      <td>295</td>\n",
       "      <td>176</td>\n",
       "    </tr>\n",
       "    <tr>\n",
       "      <th>3</th>\n",
       "      <td>Total</td>\n",
       "      <td>4,992</td>\n",
       "      <td>3,481</td>\n",
       "    </tr>\n",
       "  </tbody>\n",
       "</table>\n",
       "</div>"
      ],
      "text/plain": [
       "        name NASDAQ   NYSE\n",
       "0  Advancing  1,514  1,386\n",
       "1  Declining  3,183  1,919\n",
       "2  Unchanged    295    176\n",
       "3      Total  4,992  3,481"
      ]
     },
     "execution_count": 43,
     "metadata": {},
     "output_type": "execute_result"
    }
   ],
   "source": [
    "df_list[0]"
   ]
  },
  {
   "cell_type": "code",
   "execution_count": 151,
   "id": "71a07297",
   "metadata": {
    "scrolled": true
   },
   "outputs": [
    {
     "data": {
      "text/html": [
       "<div>\n",
       "<style scoped>\n",
       "    .dataframe tbody tr th:only-of-type {\n",
       "        vertical-align: middle;\n",
       "    }\n",
       "\n",
       "    .dataframe tbody tr th {\n",
       "        vertical-align: top;\n",
       "    }\n",
       "\n",
       "    .dataframe thead th {\n",
       "        text-align: right;\n",
       "    }\n",
       "</style>\n",
       "<table border=\"1\" class=\"dataframe\">\n",
       "  <thead>\n",
       "    <tr style=\"text-align: right;\">\n",
       "      <th></th>\n",
       "      <th>name</th>\n",
       "      <th>NASDAQ</th>\n",
       "      <th>NYSE</th>\n",
       "    </tr>\n",
       "  </thead>\n",
       "  <tbody>\n",
       "    <tr>\n",
       "      <th>0</th>\n",
       "      <td>Advancing</td>\n",
       "      <td>1514</td>\n",
       "      <td>1386</td>\n",
       "    </tr>\n",
       "    <tr>\n",
       "      <th>1</th>\n",
       "      <td>Declining</td>\n",
       "      <td>3183</td>\n",
       "      <td>1919</td>\n",
       "    </tr>\n",
       "    <tr>\n",
       "      <th>2</th>\n",
       "      <td>Unchanged</td>\n",
       "      <td>295</td>\n",
       "      <td>176</td>\n",
       "    </tr>\n",
       "    <tr>\n",
       "      <th>3</th>\n",
       "      <td>Total</td>\n",
       "      <td>4992</td>\n",
       "      <td>3481</td>\n",
       "    </tr>\n",
       "  </tbody>\n",
       "</table>\n",
       "</div>"
      ],
      "text/plain": [
       "        name NASDAQ  NYSE\n",
       "0  Advancing   1514  1386\n",
       "1  Declining   3183  1919\n",
       "2  Unchanged    295   176\n",
       "3      Total   4992  3481"
      ]
     },
     "execution_count": 151,
     "metadata": {},
     "output_type": "execute_result"
    }
   ],
   "source": [
    "df_list[0].NASDAQ = df_list[0].NASDAQ.apply(lambda x : x.replace(',',''))\n",
    "df_list[0].NYSE = df_list[0].NYSE.apply(lambda x : x.replace(',',''))\n",
    "df_list[0]"
   ]
  },
  {
   "cell_type": "code",
   "execution_count": 153,
   "id": "3e4e0f6f",
   "metadata": {
    "scrolled": true
   },
   "outputs": [
    {
     "data": {
      "text/html": [
       "<div>\n",
       "<style scoped>\n",
       "    .dataframe tbody tr th:only-of-type {\n",
       "        vertical-align: middle;\n",
       "    }\n",
       "\n",
       "    .dataframe tbody tr th {\n",
       "        vertical-align: top;\n",
       "    }\n",
       "\n",
       "    .dataframe thead th {\n",
       "        text-align: right;\n",
       "    }\n",
       "</style>\n",
       "<table border=\"1\" class=\"dataframe\">\n",
       "  <thead>\n",
       "    <tr style=\"text-align: right;\">\n",
       "      <th></th>\n",
       "      <th>name</th>\n",
       "      <th>NASDAQ</th>\n",
       "      <th>NYSE</th>\n",
       "    </tr>\n",
       "  </thead>\n",
       "  <tbody>\n",
       "    <tr>\n",
       "      <th>0</th>\n",
       "      <td>Advancing</td>\n",
       "      <td>1514</td>\n",
       "      <td>1386</td>\n",
       "    </tr>\n",
       "    <tr>\n",
       "      <th>1</th>\n",
       "      <td>Declining</td>\n",
       "      <td>3183</td>\n",
       "      <td>1919</td>\n",
       "    </tr>\n",
       "    <tr>\n",
       "      <th>2</th>\n",
       "      <td>Unchanged</td>\n",
       "      <td>295</td>\n",
       "      <td>176</td>\n",
       "    </tr>\n",
       "    <tr>\n",
       "      <th>3</th>\n",
       "      <td>Total</td>\n",
       "      <td>4992</td>\n",
       "      <td>3481</td>\n",
       "    </tr>\n",
       "  </tbody>\n",
       "</table>\n",
       "</div>"
      ],
      "text/plain": [
       "        name  NASDAQ  NYSE\n",
       "0  Advancing    1514  1386\n",
       "1  Declining    3183  1919\n",
       "2  Unchanged     295   176\n",
       "3      Total    4992  3481"
      ]
     },
     "execution_count": 153,
     "metadata": {},
     "output_type": "execute_result"
    }
   ],
   "source": [
    "df_list[0].NASDAQ = df_list[0].NASDAQ.astype(int)\n",
    "df_list[0].NYSE = df_list[0].NYSE.astype(int)\n",
    "df_list[0]"
   ]
  },
  {
   "cell_type": "code",
   "execution_count": 156,
   "id": "193da93c",
   "metadata": {},
   "outputs": [
    {
     "data": {
      "text/plain": [
       "0.3032852564102564"
      ]
     },
     "execution_count": 156,
     "metadata": {},
     "output_type": "execute_result"
    }
   ],
   "source": [
    "# pct advancing\n",
    "df_list[0].NASDAQ[0] / df_list[0].NASDAQ[3]"
   ]
  },
  {
   "cell_type": "markdown",
   "id": "7665830c",
   "metadata": {},
   "source": [
    "# New Highs and Lows\n",
    "\n",
    "Equities making a new high or low"
   ]
  },
  {
   "cell_type": "code",
   "execution_count": 44,
   "id": "9ae7930a",
   "metadata": {},
   "outputs": [
    {
     "data": {
      "text/html": [
       "<div>\n",
       "<style scoped>\n",
       "    .dataframe tbody tr th:only-of-type {\n",
       "        vertical-align: middle;\n",
       "    }\n",
       "\n",
       "    .dataframe tbody tr th {\n",
       "        vertical-align: top;\n",
       "    }\n",
       "\n",
       "    .dataframe thead th {\n",
       "        text-align: right;\n",
       "    }\n",
       "</style>\n",
       "<table border=\"1\" class=\"dataframe\">\n",
       "  <thead>\n",
       "    <tr style=\"text-align: right;\">\n",
       "      <th></th>\n",
       "      <th>name</th>\n",
       "      <th>NASDAQ</th>\n",
       "      <th>NYSE</th>\n",
       "    </tr>\n",
       "  </thead>\n",
       "  <tbody>\n",
       "    <tr>\n",
       "      <th>0</th>\n",
       "      <td>New Highs</td>\n",
       "      <td>59</td>\n",
       "      <td>104</td>\n",
       "    </tr>\n",
       "    <tr>\n",
       "      <th>1</th>\n",
       "      <td>New Lows</td>\n",
       "      <td>315</td>\n",
       "      <td>126</td>\n",
       "    </tr>\n",
       "  </tbody>\n",
       "</table>\n",
       "</div>"
      ],
      "text/plain": [
       "        name NASDAQ NYSE\n",
       "0  New Highs     59  104\n",
       "1   New Lows    315  126"
      ]
     },
     "execution_count": 44,
     "metadata": {},
     "output_type": "execute_result"
    }
   ],
   "source": [
    "df_list[1]"
   ]
  },
  {
   "cell_type": "markdown",
   "id": "dd5f92e2",
   "metadata": {},
   "source": [
    "# NYSE and Nasdaq volume\n",
    "\n",
    "Total volume traded and volume broken out by Up and Down. Can calculate %UPVOL and %DVOL"
   ]
  },
  {
   "cell_type": "code",
   "execution_count": 84,
   "id": "c0d34ff6",
   "metadata": {
    "scrolled": true
   },
   "outputs": [
    {
     "data": {
      "text/html": [
       "<div>\n",
       "<style scoped>\n",
       "    .dataframe tbody tr th:only-of-type {\n",
       "        vertical-align: middle;\n",
       "    }\n",
       "\n",
       "    .dataframe tbody tr th {\n",
       "        vertical-align: top;\n",
       "    }\n",
       "\n",
       "    .dataframe thead th {\n",
       "        text-align: right;\n",
       "    }\n",
       "</style>\n",
       "<table border=\"1\" class=\"dataframe\">\n",
       "  <thead>\n",
       "    <tr style=\"text-align: right;\">\n",
       "      <th></th>\n",
       "      <th>name</th>\n",
       "      <th>NASDAQ</th>\n",
       "      <th>NYSE</th>\n",
       "    </tr>\n",
       "  </thead>\n",
       "  <tbody>\n",
       "    <tr>\n",
       "      <th>0</th>\n",
       "      <td>Total</td>\n",
       "      <td>5,219,092,904</td>\n",
       "      <td>5,188,910,854</td>\n",
       "    </tr>\n",
       "    <tr>\n",
       "      <th>1</th>\n",
       "      <td>Advancing</td>\n",
       "      <td>1,639,466,086</td>\n",
       "      <td>1,933,871,062</td>\n",
       "    </tr>\n",
       "    <tr>\n",
       "      <th>2</th>\n",
       "      <td>Declining</td>\n",
       "      <td>3,529,940,193</td>\n",
       "      <td>3,213,498,115</td>\n",
       "    </tr>\n",
       "    <tr>\n",
       "      <th>3</th>\n",
       "      <td>Unchanged</td>\n",
       "      <td>49,686,625</td>\n",
       "      <td>41,541,677</td>\n",
       "    </tr>\n",
       "  </tbody>\n",
       "</table>\n",
       "</div>"
      ],
      "text/plain": [
       "        name         NASDAQ           NYSE\n",
       "0      Total  5,219,092,904  5,188,910,854\n",
       "1  Advancing  1,639,466,086  1,933,871,062\n",
       "2  Declining  3,529,940,193  3,213,498,115\n",
       "3  Unchanged     49,686,625     41,541,677"
      ]
     },
     "execution_count": 84,
     "metadata": {},
     "output_type": "execute_result"
    }
   ],
   "source": [
    "df_list[2]"
   ]
  },
  {
   "cell_type": "code",
   "execution_count": 87,
   "id": "d23024af",
   "metadata": {},
   "outputs": [
    {
     "name": "stdout",
     "output_type": "stream",
     "text": [
      "name\n",
      "NASDAQ\n",
      "NYSE\n"
     ]
    }
   ],
   "source": [
    "for col in df_list[2]:\n",
    "    print(col)"
   ]
  },
  {
   "cell_type": "code",
   "execution_count": 90,
   "id": "2e71bac0",
   "metadata": {},
   "outputs": [
    {
     "data": {
      "text/html": [
       "<div>\n",
       "<style scoped>\n",
       "    .dataframe tbody tr th:only-of-type {\n",
       "        vertical-align: middle;\n",
       "    }\n",
       "\n",
       "    .dataframe tbody tr th {\n",
       "        vertical-align: top;\n",
       "    }\n",
       "\n",
       "    .dataframe thead th {\n",
       "        text-align: right;\n",
       "    }\n",
       "</style>\n",
       "<table border=\"1\" class=\"dataframe\">\n",
       "  <thead>\n",
       "    <tr style=\"text-align: right;\">\n",
       "      <th></th>\n",
       "      <th>name</th>\n",
       "      <th>NASDAQ</th>\n",
       "      <th>NYSE</th>\n",
       "    </tr>\n",
       "  </thead>\n",
       "  <tbody>\n",
       "    <tr>\n",
       "      <th>0</th>\n",
       "      <td>Total</td>\n",
       "      <td>5219092904</td>\n",
       "      <td>5188910854</td>\n",
       "    </tr>\n",
       "    <tr>\n",
       "      <th>1</th>\n",
       "      <td>Advancing</td>\n",
       "      <td>1639466086</td>\n",
       "      <td>1933871062</td>\n",
       "    </tr>\n",
       "    <tr>\n",
       "      <th>2</th>\n",
       "      <td>Declining</td>\n",
       "      <td>3529940193</td>\n",
       "      <td>3213498115</td>\n",
       "    </tr>\n",
       "    <tr>\n",
       "      <th>3</th>\n",
       "      <td>Unchanged</td>\n",
       "      <td>49686625</td>\n",
       "      <td>41541677</td>\n",
       "    </tr>\n",
       "  </tbody>\n",
       "</table>\n",
       "</div>"
      ],
      "text/plain": [
       "        name      NASDAQ        NYSE\n",
       "0      Total  5219092904  5188910854\n",
       "1  Advancing  1639466086  1933871062\n",
       "2  Declining  3529940193  3213498115\n",
       "3  Unchanged    49686625    41541677"
      ]
     },
     "execution_count": 90,
     "metadata": {},
     "output_type": "execute_result"
    }
   ],
   "source": [
    "for col in df_list[2]:\n",
    "    if col == 'name':\n",
    "        continue\n",
    "    for i in range(len(df_list[2][col])):\n",
    "        df_list[2][col][i] = int(df_list[2][col][i].replace(',',''))\n",
    "        \n",
    "df_list[2]"
   ]
  },
  {
   "cell_type": "code",
   "execution_count": 124,
   "id": "4b008a05",
   "metadata": {},
   "outputs": [
    {
     "name": "stdout",
     "output_type": "stream",
     "text": [
      "name\n",
      "0        Total\n",
      "1    Advancing\n",
      "2    Declining\n",
      "3    Unchanged\n",
      "Name: name, dtype: object\n",
      "NASDAQ\n",
      "0    5219092904\n",
      "1    1639466086\n",
      "2    3529940193\n",
      "3      49686625\n",
      "Name: NASDAQ, dtype: object\n",
      "NYSE\n",
      "0    5188910854\n",
      "1    1933871062\n",
      "2    3213498115\n",
      "3      41541677\n",
      "Name: NYSE, dtype: object\n"
     ]
    }
   ],
   "source": [
    "for col, row in df_list[2].items():\n",
    "    print(col)\n",
    "    print(row)"
   ]
  },
  {
   "cell_type": "code",
   "execution_count": 111,
   "id": "94a4f260",
   "metadata": {},
   "outputs": [
    {
     "data": {
      "text/plain": [
       "0.3141"
      ]
     },
     "execution_count": 111,
     "metadata": {},
     "output_type": "execute_result"
    }
   ],
   "source": [
    "# %UPVOL\n",
    "round(df_list[2]['NASDAQ'][1] / df_list[2]['NASDAQ'][0], 4)"
   ]
  },
  {
   "cell_type": "code",
   "execution_count": 134,
   "id": "129cc549",
   "metadata": {
    "scrolled": true
   },
   "outputs": [
    {
     "data": {
      "text/plain": [
       "0.3141"
      ]
     },
     "execution_count": 134,
     "metadata": {},
     "output_type": "execute_result"
    }
   ],
   "source": [
    "round(df_list[2][df_list[2].name == 'Advancing']['NASDAQ'].values[0] / df_list[2][df_list[2].name == 'Total']['NASDAQ'].values[0], 4)"
   ]
  }
 ],
 "metadata": {
  "kernelspec": {
   "display_name": "pyFi",
   "language": "python",
   "name": "pyfi"
  },
  "language_info": {
   "codemirror_mode": {
    "name": "ipython",
    "version": 3
   },
   "file_extension": ".py",
   "mimetype": "text/x-python",
   "name": "python",
   "nbconvert_exporter": "python",
   "pygments_lexer": "ipython3",
   "version": "3.8.8"
  }
 },
 "nbformat": 4,
 "nbformat_minor": 5
}
